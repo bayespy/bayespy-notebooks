{
 "cells": [
  {
   "cell_type": "markdown",
   "metadata": {},
   "source": [
    "There are a few simple options for modelling ranking:\n",
    "\n",
    "1. If you observe the result, not just the winner, but the result (e.g., 4-1), you could model the difference (e.g., +3) as a Gaussian variable depending on Gaussian distributed player skills.\n",
    "\n",
    "2. If you only observe the winner, but don't know how tight the match was, then the outcome should indeed be modelled as a bernoulli/categorical variable.\n",
    "\n",
    "  - If you want to model player skills as Gaussian variables, this would require a new node in BayesPy which converts a Gaussian variable to Bernoulli variable via `>` comparison. It would be definitely an interesting feature and I'd love to work on that but unfortunately I don't have the time for that.\n",
    "  \n",
    "  - With current nodes, it *might* be possible to find maximum likelihood estimates for the player skills. Not sure though, would need to look a bit more into it. You would just create some point estimate node for player skills, do some mapping to get match outcome probabilities and then feed that to Bernoulli node.\n",
    "\n",
    "You were asking about (2), but I'll show how you could do (1) in case you're interested:"
   ]
  },
  {
   "cell_type": "code",
   "execution_count": 8,
   "metadata": {},
   "outputs": [],
   "source": [
    "import bayespy as bp"
   ]
  },
  {
   "cell_type": "markdown",
   "metadata": {},
   "source": [
    "Player skills are Gaussian variables:"
   ]
  },
  {
   "cell_type": "code",
   "execution_count": 9,
   "metadata": {},
   "outputs": [],
   "source": [
    "players = bp.nodes.GaussianARD(\n",
    "    0,\n",
    "    1e-6,\n",
    "    shape=(4,),\n",
    "    name=\"players\"\n",
    ")"
   ]
  },
  {
   "cell_type": "markdown",
   "metadata": {},
   "source": [
    "Note that I'm using `GaussianARD` because the skills are scalars, but I still have them in the same node so that their posterior couplings can be learned. Using `shape` instead of `plates` for that.\n",
    "\n",
    "Form teams for each match. You were interested in 1-on-1 matches, so just put `+1` and `-1` values for the active players. But in general, some approaches:\n",
    "\n",
    "- If team total skill is a sum of player skills: `+1` for the home team, `-1` for the away team, `0` for non-playing players\n",
    "- If teams can have different number of players and increasing the player count in a team has smaller than linear effect, then perhaps weights: `1/sqrt(N_home)` and `-1/sqrt(N_away)`.\n",
    "- If team total skill is just an average of the player skills: `1/N_home` and `-1/N_away`.\n",
    "\n",
    "The match outcome is then assumed to depend on the team total skill differences, therefore the different signs `+` and `-`."
   ]
  },
  {
   "cell_type": "code",
   "execution_count": 10,
   "metadata": {},
   "outputs": [],
   "source": [
    "matches = bp.nodes.SumMultiply(\n",
    "    \"i,i\",\n",
    "    players,\n",
    "    [\n",
    "        [1, -1, 0, 0],\n",
    "        [1, 0, -1, 0],\n",
    "        [1, 0, 0, -1],\n",
    "        [0, 1, -1, 0],\n",
    "        [0, 1, 0, -1],\n",
    "        [0, 0, 1, -1],\n",
    "    ],\n",
    "    name=\"matches\",\n",
    ")"
   ]
  },
  {
   "cell_type": "markdown",
   "metadata": {},
   "source": [
    "We assume that we observe some measure of team skill differences. In football, it could be the difference between the scores (4 - 1 = +3). Outcome is always a bit noisy, so use some fixed noise parameter or learn that parameter too."
   ]
  },
  {
   "cell_type": "code",
   "execution_count": 11,
   "metadata": {},
   "outputs": [],
   "source": [
    "results = bp.nodes.GaussianARD(\n",
    "    matches,\n",
    "    1e-1,\n",
    "    name=\"results\",\n",
    ")"
   ]
  },
  {
   "cell_type": "markdown",
   "metadata": {},
   "source": [
    "Positive value means that the home team won. Negative values means that the away team won."
   ]
  },
  {
   "cell_type": "code",
   "execution_count": 12,
   "metadata": {},
   "outputs": [],
   "source": [
    "results.observe([1-4, 2-3, 2-1, 3-2, 5-1, 2-0])"
   ]
  },
  {
   "cell_type": "markdown",
   "metadata": {},
   "source": [
    "Update the only unknown variables and show the posterior estimates of player skills."
   ]
  },
  {
   "cell_type": "code",
   "execution_count": 13,
   "metadata": {},
   "outputs": [
    {
     "name": "stdout",
     "output_type": "stream",
     "text": [
      "players ~ Gaussian(mu, Cov)\n",
      "  mu = \n",
      "[-0.74999813  1.999995    0.49999875 -1.74999563]\n",
      "  Cov = \n",
      "[[250001.87500356 249999.37500981 249999.37500981 249999.37500981]\n",
      " [249999.37500981 250001.87500356 249999.37500981 249999.37500981]\n",
      " [249999.37500981 249999.37500981 250001.87500356 249999.37500981]\n",
      " [249999.37500981 249999.37500981 249999.37500981 250001.87500356]]\n",
      "\n"
     ]
    }
   ],
   "source": [
    "players.update()\n",
    "\n",
    "print(players)"
   ]
  },
  {
   "cell_type": "markdown",
   "metadata": {},
   "source": [
    "Note that the posterior covariance is huge because there's no anchor point (i.e., we could translate the skills arbitrarily because we are only interested in skill differences), but there's also a huge correlation between the skills so the player skill order can be quite certain although the absolute skill values are uncertain."
   ]
  }
 ],
 "metadata": {
  "kernelspec": {
   "display_name": "Python 3",
   "language": "python",
   "name": "python3"
  },
  "language_info": {
   "codemirror_mode": {
    "name": "ipython",
    "version": 3
   },
   "file_extension": ".py",
   "mimetype": "text/x-python",
   "name": "python",
   "nbconvert_exporter": "python",
   "pygments_lexer": "ipython3",
   "version": "3.7.3"
  }
 },
 "nbformat": 4,
 "nbformat_minor": 2
}
